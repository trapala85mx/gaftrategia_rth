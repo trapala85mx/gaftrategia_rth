{
 "cells": [
  {
   "cell_type": "code",
   "execution_count": 519,
   "metadata": {},
   "outputs": [],
   "source": [
    "import pandas as pd\n",
    "import numpy as np\n",
    "import math"
   ]
  },
  {
   "cell_type": "code",
   "execution_count": 520,
   "metadata": {},
   "outputs": [],
   "source": [
    "#print(asks_df.index)\n",
    "#print(min(asks_df.index))\n",
    "#print(max(asks_df.index))"
   ]
  },
  {
   "attachments": {},
   "cell_type": "markdown",
   "metadata": {},
   "source": [
    "# RESUMEN"
   ]
  },
  {
   "cell_type": "code",
   "execution_count": 521,
   "metadata": {},
   "outputs": [],
   "source": [
    "asks_df = pd.read_csv(\"asks_df.csv\")\n",
    "asks_df.sort_index(ascending=False, inplace=True)\n",
    "asks_df.set_index(\"price\", inplace=True)\n",
    "bids_df = pd.read_csv(\"bids_df.csv\")\n",
    "bids_df.sort_index(ascending=False, inplace=True)\n",
    "bids_df.set_index(\"price\", inplace=True)"
   ]
  },
  {
   "attachments": {},
   "cell_type": "markdown",
   "metadata": {},
   "source": [
    "## 1. Tener los múltiplos a usar y la precisión para redondear"
   ]
  },
  {
   "cell_type": "code",
   "execution_count": 522,
   "metadata": {},
   "outputs": [],
   "source": [
    "i1 = 0.01\n",
    "i2 = 0.001"
   ]
  },
  {
   "cell_type": "code",
   "execution_count": 523,
   "metadata": {},
   "outputs": [],
   "source": [
    "precision = 4"
   ]
  },
  {
   "attachments": {},
   "cell_type": "markdown",
   "metadata": {},
   "source": [
    "## 2. Obtenemos la lista de precios a través de un panda Series"
   ]
  },
  {
   "cell_type": "code",
   "execution_count": 524,
   "metadata": {},
   "outputs": [],
   "source": [
    "asks_numbers_series = pd.Series(asks_df.index)\n",
    "bids_numbers_series = pd.Series(bids_df.index)"
   ]
  },
  {
   "attachments": {},
   "cell_type": "markdown",
   "metadata": {},
   "source": [
    "## 3. Obtenemos los valores máximos y mínimos de los precios para cada DataFrame"
   ]
  },
  {
   "cell_type": "code",
   "execution_count": 525,
   "metadata": {},
   "outputs": [
    {
     "name": "stdout",
     "output_type": "stream",
     "text": [
      "0.8003\n",
      "0.9006\n"
     ]
    }
   ],
   "source": [
    "minimo_asks = round(asks_numbers_series.min(), precision)\n",
    "maximo_asks = round(asks_numbers_series.max(), precision)\n",
    "print(minimo_asks)\n",
    "print(maximo_asks)"
   ]
  },
  {
   "cell_type": "code",
   "execution_count": 526,
   "metadata": {},
   "outputs": [
    {
     "name": "stdout",
     "output_type": "stream",
     "text": [
      "0.7001\n",
      "0.8002\n"
     ]
    }
   ],
   "source": [
    "minimo_bids = round(bids_numbers_series.min(), precision)\n",
    "maximo_bids = round(bids_numbers_series.max(), precision)\n",
    "print(minimo_bids)\n",
    "print(maximo_bids)"
   ]
  },
  {
   "attachments": {},
   "cell_type": "markdown",
   "metadata": {},
   "source": [
    "## 4. Obtenemos valores iniciales y finales de los rangos para ASKS y BIDS"
   ]
  },
  {
   "attachments": {},
   "cell_type": "markdown",
   "metadata": {},
   "source": [
    "- Como debemos redondear en base a la cantidad de decimales que tenga el múltiplo, haremos:\n",
    "    - Para el mínimo, encontrar cuántas veces cabe el múltiplo en el mínimo\n",
    "    - Este valor lo redondeamos hacia el entero inferior con math.ceil()\n",
    "    - Regresamos a los decimales, multiplicando con el múltiplo"
   ]
  },
  {
   "cell_type": "code",
   "execution_count": 527,
   "metadata": {},
   "outputs": [],
   "source": [
    "def crear_rango_minimo(minimo: float, multiplo: float) -> float:\n",
    "    global precision\n",
    "    div = minimo / multiplo\n",
    "    min_entero = math.floor(div)\n",
    "    return round(min_entero * multiplo, precision)"
   ]
  },
  {
   "attachments": {},
   "cell_type": "markdown",
   "metadata": {},
   "source": [
    "Para crear el valor máximo del rango, haremos:\n",
    "- dividimos el valor máximo del rango entre el múltiplo\n",
    "- el resultado lo redondeamos al entero superior\n",
    "- regresamos a los decimales multiplicando por el múltiplo\n",
    "- En el caso del máximo debemos sumarle al resultado el múltiplo porque el rango es abierto a la derecha (máximo)"
   ]
  },
  {
   "cell_type": "code",
   "execution_count": 528,
   "metadata": {},
   "outputs": [],
   "source": [
    "def crear_rango_maximo(maximo: float, multiplo:float) -> float:\n",
    "    div = maximo / multiplo\n",
    "    max_entero = math.ceil(div)\n",
    "    return round((max_entero * multiplo) + 0.01, precision)"
   ]
  },
  {
   "attachments": {},
   "cell_type": "markdown",
   "metadata": {},
   "source": [
    "Entonces, para ASKS, tenemos:"
   ]
  },
  {
   "cell_type": "code",
   "execution_count": 529,
   "metadata": {},
   "outputs": [
    {
     "data": {
      "text/plain": [
       "0.8"
      ]
     },
     "execution_count": 529,
     "metadata": {},
     "output_type": "execute_result"
    }
   ],
   "source": [
    "rango_min_asks_i1 = crear_rango_minimo(minimo_asks, i1)\n",
    "rango_min_asks_i1"
   ]
  },
  {
   "cell_type": "code",
   "execution_count": 530,
   "metadata": {},
   "outputs": [
    {
     "data": {
      "text/plain": [
       "0.92"
      ]
     },
     "execution_count": 530,
     "metadata": {},
     "output_type": "execute_result"
    }
   ],
   "source": [
    "rango_max_asks_i1 = crear_rango_maximo(maximo_asks, i1)\n",
    "rango_max_asks_i1"
   ]
  },
  {
   "attachments": {},
   "cell_type": "markdown",
   "metadata": {},
   "source": [
    "Para BIDS, tenemos"
   ]
  },
  {
   "cell_type": "code",
   "execution_count": 531,
   "metadata": {},
   "outputs": [
    {
     "data": {
      "text/plain": [
       "0.7"
      ]
     },
     "execution_count": 531,
     "metadata": {},
     "output_type": "execute_result"
    }
   ],
   "source": [
    "rango_min_bids_i1 = crear_rango_minimo(minimo_bids, i1)\n",
    "rango_min_bids_i1"
   ]
  },
  {
   "cell_type": "code",
   "execution_count": 532,
   "metadata": {},
   "outputs": [
    {
     "data": {
      "text/plain": [
       "0.82"
      ]
     },
     "execution_count": 532,
     "metadata": {},
     "output_type": "execute_result"
    }
   ],
   "source": [
    "rango_max_bids_i1 = crear_rango_maximo(maximo_bids, i1)\n",
    "rango_max_bids_i1"
   ]
  },
  {
   "attachments": {},
   "cell_type": "markdown",
   "metadata": {},
   "source": [
    "- PARA RANGO i2"
   ]
  },
  {
   "cell_type": "code",
   "execution_count": 543,
   "metadata": {},
   "outputs": [],
   "source": [
    "rango_min_asks_i2 = crear_rango_minimo(minimo_asks, i2)\n",
    "rango_max_asks_i2 = crear_rango_maximo(maximo_asks, i2)\n",
    "rango_min_bids_i2 = crear_rango_minimo(minimo_bids, i2)\n",
    "rango_max_bids_i2 = crear_rango_maximo(maximo_bids, i2)"
   ]
  },
  {
   "attachments": {},
   "cell_type": "markdown",
   "metadata": {},
   "source": [
    "## 5. Creamos los rangos de precios con np.arange()"
   ]
  },
  {
   "attachments": {},
   "cell_type": "markdown",
   "metadata": {},
   "source": [
    "Estos rangos lo llamaremos bins, ya que los usaremos después para usarlos en el dataframe"
   ]
  },
  {
   "attachments": {},
   "cell_type": "markdown",
   "metadata": {},
   "source": [
    "### Asks"
   ]
  },
  {
   "cell_type": "code",
   "execution_count": 533,
   "metadata": {},
   "outputs": [
    {
     "data": {
      "text/plain": [
       "array([0.8 , 0.81, 0.82, 0.83, 0.84, 0.85, 0.86, 0.87, 0.88, 0.89, 0.9 ,\n",
       "       0.91])"
      ]
     },
     "execution_count": 533,
     "metadata": {},
     "output_type": "execute_result"
    }
   ],
   "source": [
    "asks_bins_i1 = np.arange(rango_min_asks_i1, rango_max_asks_i1, i1)\n",
    "asks_bins_i1"
   ]
  },
  {
   "attachments": {},
   "cell_type": "markdown",
   "metadata": {},
   "source": [
    "### Bids"
   ]
  },
  {
   "cell_type": "code",
   "execution_count": 534,
   "metadata": {},
   "outputs": [
    {
     "data": {
      "text/plain": [
       "array([0.7 , 0.71, 0.72, 0.73, 0.74, 0.75, 0.76, 0.77, 0.78, 0.79, 0.8 ,\n",
       "       0.81])"
      ]
     },
     "execution_count": 534,
     "metadata": {},
     "output_type": "execute_result"
    }
   ],
   "source": [
    "bids_bins_i1 = np.arange(rango_min_bids_i1, rango_max_bids_i1, i1)\n",
    "bids_bins_i1"
   ]
  },
  {
   "attachments": {},
   "cell_type": "markdown",
   "metadata": {},
   "source": [
    "### Para rango i2"
   ]
  },
  {
   "cell_type": "code",
   "execution_count": 544,
   "metadata": {},
   "outputs": [],
   "source": [
    "asks_bins_i2 = np.arange(rango_min_asks_i2, rango_max_asks_i2, i2)\n",
    "bids_bins_i2 = np.arange(rango_min_bids_i2, rango_max_bids_i2, i2)"
   ]
  },
  {
   "attachments": {},
   "cell_type": "markdown",
   "metadata": {},
   "source": [
    "# 6. Creamos los rangos de precios con pd.cut()"
   ]
  },
  {
   "attachments": {},
   "cell_type": "markdown",
   "metadata": {},
   "source": [
    "- En el DataFrame creamos la nueva columna que será el rango el cual nos dirá a que rango pertenece cada precio\n",
    "- Esteo lo logramos con pd.cut() sobre los índices del DataFrame (porque son los precios) y usando los bins creados"
   ]
  },
  {
   "cell_type": "code",
   "execution_count": 535,
   "metadata": {},
   "outputs": [
    {
     "data": {
      "text/html": [
       "<div>\n",
       "<style scoped>\n",
       "    .dataframe tbody tr th:only-of-type {\n",
       "        vertical-align: middle;\n",
       "    }\n",
       "\n",
       "    .dataframe tbody tr th {\n",
       "        vertical-align: top;\n",
       "    }\n",
       "\n",
       "    .dataframe thead th {\n",
       "        text-align: right;\n",
       "    }\n",
       "</style>\n",
       "<table border=\"1\" class=\"dataframe\">\n",
       "  <thead>\n",
       "    <tr style=\"text-align: right;\">\n",
       "      <th></th>\n",
       "      <th>quantity</th>\n",
       "      <th>rango_i1</th>\n",
       "    </tr>\n",
       "    <tr>\n",
       "      <th>price</th>\n",
       "      <th></th>\n",
       "      <th></th>\n",
       "    </tr>\n",
       "  </thead>\n",
       "  <tbody>\n",
       "    <tr>\n",
       "      <th>0.9006</th>\n",
       "      <td>674.0</td>\n",
       "      <td>(0.9, 0.91]</td>\n",
       "    </tr>\n",
       "    <tr>\n",
       "      <th>0.9005</th>\n",
       "      <td>335.0</td>\n",
       "      <td>(0.9, 0.91]</td>\n",
       "    </tr>\n",
       "    <tr>\n",
       "      <th>0.9004</th>\n",
       "      <td>175.0</td>\n",
       "      <td>(0.9, 0.91]</td>\n",
       "    </tr>\n",
       "    <tr>\n",
       "      <th>0.9003</th>\n",
       "      <td>501.0</td>\n",
       "      <td>(0.9, 0.91]</td>\n",
       "    </tr>\n",
       "    <tr>\n",
       "      <th>0.9002</th>\n",
       "      <td>5824.0</td>\n",
       "      <td>(0.9, 0.91]</td>\n",
       "    </tr>\n",
       "    <tr>\n",
       "      <th>...</th>\n",
       "      <td>...</td>\n",
       "      <td>...</td>\n",
       "    </tr>\n",
       "    <tr>\n",
       "      <th>0.8007</th>\n",
       "      <td>101220.0</td>\n",
       "      <td>(0.8, 0.81]</td>\n",
       "    </tr>\n",
       "    <tr>\n",
       "      <th>0.8006</th>\n",
       "      <td>80521.0</td>\n",
       "      <td>(0.8, 0.81]</td>\n",
       "    </tr>\n",
       "    <tr>\n",
       "      <th>0.8005</th>\n",
       "      <td>78522.0</td>\n",
       "      <td>(0.8, 0.81]</td>\n",
       "    </tr>\n",
       "    <tr>\n",
       "      <th>0.8004</th>\n",
       "      <td>6420.0</td>\n",
       "      <td>(0.8, 0.81]</td>\n",
       "    </tr>\n",
       "    <tr>\n",
       "      <th>0.8003</th>\n",
       "      <td>13310.0</td>\n",
       "      <td>(0.8, 0.81]</td>\n",
       "    </tr>\n",
       "  </tbody>\n",
       "</table>\n",
       "<p>1000 rows × 2 columns</p>\n",
       "</div>"
      ],
      "text/plain": [
       "        quantity     rango_i1\n",
       "price                        \n",
       "0.9006     674.0  (0.9, 0.91]\n",
       "0.9005     335.0  (0.9, 0.91]\n",
       "0.9004     175.0  (0.9, 0.91]\n",
       "0.9003     501.0  (0.9, 0.91]\n",
       "0.9002    5824.0  (0.9, 0.91]\n",
       "...          ...          ...\n",
       "0.8007  101220.0  (0.8, 0.81]\n",
       "0.8006   80521.0  (0.8, 0.81]\n",
       "0.8005   78522.0  (0.8, 0.81]\n",
       "0.8004    6420.0  (0.8, 0.81]\n",
       "0.8003   13310.0  (0.8, 0.81]\n",
       "\n",
       "[1000 rows x 2 columns]"
      ]
     },
     "execution_count": 535,
     "metadata": {},
     "output_type": "execute_result"
    }
   ],
   "source": [
    "asks_df['rango_i1'] = pd.cut(asks_df.index, asks_bins_i1)\n",
    "asks_df"
   ]
  },
  {
   "cell_type": "code",
   "execution_count": 536,
   "metadata": {},
   "outputs": [
    {
     "data": {
      "text/html": [
       "<div>\n",
       "<style scoped>\n",
       "    .dataframe tbody tr th:only-of-type {\n",
       "        vertical-align: middle;\n",
       "    }\n",
       "\n",
       "    .dataframe tbody tr th {\n",
       "        vertical-align: top;\n",
       "    }\n",
       "\n",
       "    .dataframe thead th {\n",
       "        text-align: right;\n",
       "    }\n",
       "</style>\n",
       "<table border=\"1\" class=\"dataframe\">\n",
       "  <thead>\n",
       "    <tr style=\"text-align: right;\">\n",
       "      <th></th>\n",
       "      <th>quantity</th>\n",
       "      <th>rango_i1</th>\n",
       "    </tr>\n",
       "    <tr>\n",
       "      <th>price</th>\n",
       "      <th></th>\n",
       "      <th></th>\n",
       "    </tr>\n",
       "  </thead>\n",
       "  <tbody>\n",
       "    <tr>\n",
       "      <th>0.8002</th>\n",
       "      <td>15888.0</td>\n",
       "      <td>(0.8, 0.81]</td>\n",
       "    </tr>\n",
       "    <tr>\n",
       "      <th>0.8001</th>\n",
       "      <td>42942.0</td>\n",
       "      <td>(0.8, 0.81]</td>\n",
       "    </tr>\n",
       "    <tr>\n",
       "      <th>0.8000</th>\n",
       "      <td>66902.0</td>\n",
       "      <td>(0.79, 0.8]</td>\n",
       "    </tr>\n",
       "    <tr>\n",
       "      <th>0.7999</th>\n",
       "      <td>50941.0</td>\n",
       "      <td>(0.79, 0.8]</td>\n",
       "    </tr>\n",
       "    <tr>\n",
       "      <th>0.7998</th>\n",
       "      <td>66982.0</td>\n",
       "      <td>(0.79, 0.8]</td>\n",
       "    </tr>\n",
       "    <tr>\n",
       "      <th>...</th>\n",
       "      <td>...</td>\n",
       "      <td>...</td>\n",
       "    </tr>\n",
       "    <tr>\n",
       "      <th>0.7005</th>\n",
       "      <td>1373.0</td>\n",
       "      <td>(0.7, 0.71]</td>\n",
       "    </tr>\n",
       "    <tr>\n",
       "      <th>0.7004</th>\n",
       "      <td>1515.0</td>\n",
       "      <td>(0.7, 0.71]</td>\n",
       "    </tr>\n",
       "    <tr>\n",
       "      <th>0.7003</th>\n",
       "      <td>27.0</td>\n",
       "      <td>(0.7, 0.71]</td>\n",
       "    </tr>\n",
       "    <tr>\n",
       "      <th>0.7002</th>\n",
       "      <td>2330.0</td>\n",
       "      <td>(0.7, 0.71]</td>\n",
       "    </tr>\n",
       "    <tr>\n",
       "      <th>0.7001</th>\n",
       "      <td>11201.0</td>\n",
       "      <td>(0.7, 0.71]</td>\n",
       "    </tr>\n",
       "  </tbody>\n",
       "</table>\n",
       "<p>1000 rows × 2 columns</p>\n",
       "</div>"
      ],
      "text/plain": [
       "        quantity     rango_i1\n",
       "price                        \n",
       "0.8002   15888.0  (0.8, 0.81]\n",
       "0.8001   42942.0  (0.8, 0.81]\n",
       "0.8000   66902.0  (0.79, 0.8]\n",
       "0.7999   50941.0  (0.79, 0.8]\n",
       "0.7998   66982.0  (0.79, 0.8]\n",
       "...          ...          ...\n",
       "0.7005    1373.0  (0.7, 0.71]\n",
       "0.7004    1515.0  (0.7, 0.71]\n",
       "0.7003      27.0  (0.7, 0.71]\n",
       "0.7002    2330.0  (0.7, 0.71]\n",
       "0.7001   11201.0  (0.7, 0.71]\n",
       "\n",
       "[1000 rows x 2 columns]"
      ]
     },
     "execution_count": 536,
     "metadata": {},
     "output_type": "execute_result"
    }
   ],
   "source": [
    "bids_df['rango_i1'] = pd.cut(bids_df.index, bids_bins_i1)\n",
    "bids_df"
   ]
  },
  {
   "attachments": {},
   "cell_type": "markdown",
   "metadata": {},
   "source": [
    "### Para rango i2"
   ]
  },
  {
   "cell_type": "code",
   "execution_count": 545,
   "metadata": {},
   "outputs": [],
   "source": [
    "asks_df['rango_i2'] = pd.cut(asks_df.index, asks_bins_i2)\n",
    "bids_df['rango_i2'] = pd.cut(bids_df.index, bids_bins_i2)"
   ]
  },
  {
   "attachments": {},
   "cell_type": "markdown",
   "metadata": {},
   "source": [
    "# 7. Agrupamos los datos por el rango y sumamos columna 'quantity'"
   ]
  },
  {
   "attachments": {},
   "cell_type": "markdown",
   "metadata": {},
   "source": [
    "- Al usar groupby, lo que tendremos es un objeto DataFrame por lo que no podremos verlos así de fácil\n",
    "- para poder ver su contenido podemos crear una función que imprima cada elemento. Ejemplificamos creando la función print_group, haciendo a alusión a un grupo de datos y al DataFrame agrupado le hacemos apply y usamos esta función para que imprima los registros\n",
    "- Ya que tenemos los registros agrupados por el rango, hacemos la suma de las cantidades. Para esto aplicamos el método sum() sobre la columna quantitys y, a su vez, sobre el DataFrame agrupado por rangos"
   ]
  },
  {
   "cell_type": "code",
   "execution_count": 537,
   "metadata": {},
   "outputs": [],
   "source": [
    "def print_group(group):\n",
    "    print(group)"
   ]
  },
  {
   "cell_type": "code",
   "execution_count": 538,
   "metadata": {},
   "outputs": [],
   "source": [
    "def sumar_cantidades(df: pd.DataFrame, rango:str) -> pd.DataFrame:\n",
    "    grouped = df.groupby('rango_'+rango)\n",
    "    #asks_grouped.apply(print_group)\n",
    "    return grouped['quantity'].sum()"
   ]
  },
  {
   "cell_type": "code",
   "execution_count": 539,
   "metadata": {},
   "outputs": [
    {
     "data": {
      "text/plain": [
       "rango_i1\n",
       "(0.8, 0.81]     3474525.0\n",
       "(0.81, 0.82]    2240488.0\n",
       "(0.82, 0.83]    1197949.0\n",
       "(0.83, 0.84]     994549.0\n",
       "(0.84, 0.85]     944127.0\n",
       "(0.85, 0.86]     540548.0\n",
       "(0.86, 0.87]     305108.0\n",
       "(0.87, 0.88]     372564.0\n",
       "(0.88, 0.89]     294532.0\n",
       "(0.89, 0.9]      354691.0\n",
       "(0.9, 0.91]        7533.0\n",
       "Name: quantity, dtype: float64"
      ]
     },
     "execution_count": 539,
     "metadata": {},
     "output_type": "execute_result"
    }
   ],
   "source": [
    "suma_cantidades_asks_i1 = sumar_cantidades(asks_df, 'i1')\n",
    "suma_cantidades_asks_i1"
   ]
  },
  {
   "cell_type": "code",
   "execution_count": 540,
   "metadata": {},
   "outputs": [
    {
     "data": {
      "text/plain": [
       "rango_i1\n",
       "(0.7, 0.71]      391013.0\n",
       "(0.71, 0.72]     334497.0\n",
       "(0.72, 0.73]     796789.0\n",
       "(0.73, 0.74]     406827.0\n",
       "(0.74, 0.75]     877647.0\n",
       "(0.75, 0.76]     495403.0\n",
       "(0.76, 0.77]     902942.0\n",
       "(0.77, 0.78]    1533820.0\n",
       "(0.78, 0.79]    1245011.0\n",
       "(0.79, 0.8]     3891873.0\n",
       "(0.8, 0.81]       58830.0\n",
       "Name: quantity, dtype: float64"
      ]
     },
     "execution_count": 540,
     "metadata": {},
     "output_type": "execute_result"
    }
   ],
   "source": [
    "suma_cantidades_bids_i1 = sumar_cantidades(bids_df, 'i1')\n",
    "suma_cantidades_bids_i1"
   ]
  },
  {
   "attachments": {},
   "cell_type": "markdown",
   "metadata": {},
   "source": [
    "### Para rango i2"
   ]
  },
  {
   "cell_type": "code",
   "execution_count": 546,
   "metadata": {},
   "outputs": [],
   "source": [
    "suma_cantidades_asks_i2 = sumar_cantidades(asks_df, 'i2')\n",
    "suma_cantidades_bids_i2 = sumar_cantidades(bids_df, 'i2')"
   ]
  },
  {
   "attachments": {},
   "cell_type": "markdown",
   "metadata": {},
   "source": [
    "# Obtenemos el índice (Precio) con mayor volumen"
   ]
  },
  {
   "attachments": {},
   "cell_type": "markdown",
   "metadata": {},
   "source": [
    "Para esto usaremos el DataFrame obtenido anteriormente"
   ]
  },
  {
   "cell_type": "code",
   "execution_count": 541,
   "metadata": {},
   "outputs": [
    {
     "data": {
      "text/plain": [
       "0.81"
      ]
     },
     "execution_count": 541,
     "metadata": {},
     "output_type": "execute_result"
    }
   ],
   "source": [
    "suma_cantidades_asks_i1.idxmax().right"
   ]
  },
  {
   "cell_type": "code",
   "execution_count": 542,
   "metadata": {},
   "outputs": [
    {
     "data": {
      "text/plain": [
       "0.8"
      ]
     },
     "execution_count": 542,
     "metadata": {},
     "output_type": "execute_result"
    }
   ],
   "source": [
    "suma_cantidades_bids_i1.idxmax().right"
   ]
  },
  {
   "cell_type": "code",
   "execution_count": 547,
   "metadata": {},
   "outputs": [
    {
     "data": {
      "text/plain": [
       "0.802"
      ]
     },
     "execution_count": 547,
     "metadata": {},
     "output_type": "execute_result"
    }
   ],
   "source": [
    "suma_cantidades_asks_i2.idxmax().right"
   ]
  },
  {
   "cell_type": "code",
   "execution_count": 548,
   "metadata": {},
   "outputs": [
    {
     "data": {
      "text/plain": [
       "0.799"
      ]
     },
     "execution_count": 548,
     "metadata": {},
     "output_type": "execute_result"
    }
   ],
   "source": [
    "suma_cantidades_bids_i2.idxmax().right"
   ]
  }
 ],
 "metadata": {
  "kernelspec": {
   "display_name": "base",
   "language": "python",
   "name": "python3"
  },
  "language_info": {
   "codemirror_mode": {
    "name": "ipython",
    "version": 3
   },
   "file_extension": ".py",
   "mimetype": "text/x-python",
   "name": "python",
   "nbconvert_exporter": "python",
   "pygments_lexer": "ipython3",
   "version": "3.9.13"
  },
  "orig_nbformat": 4,
  "vscode": {
   "interpreter": {
    "hash": "e119990251461c4e56deaa3b913e2c3861747a097d99d5e99bb6cf759293e6cd"
   }
  }
 },
 "nbformat": 4,
 "nbformat_minor": 2
}
